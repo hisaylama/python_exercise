{
 "cells": [
  {
   "cell_type": "markdown",
   "id": "e38536a4",
   "metadata": {},
   "source": [
    "## Exercise: Python Read Write File"
   ]
  },
  {
   "cell_type": "markdown",
   "id": "47639485",
   "metadata": {},
   "source": [
    "`poem.txt` contains famous poem \"Road not taken\" by poet Robert Frost. You have to read this file in your python program and find out words with maximum occurance."
   ]
  },
  {
   "cell_type": "code",
   "execution_count": 3,
   "id": "5cabb5a9",
   "metadata": {},
   "outputs": [
    {
     "name": "stdout",
     "output_type": "stream",
     "text": [
      "['Two roads diverged in a yellow wood,\\n', 'And sorry I could not travel both\\n', 'And be one traveler, long I stood\\n', 'And looked down one as far as I could\\n', 'To where it bent in the undergrowth;\\n', '\\n', 'Then took the other, as just as fair,\\n', 'And having perhaps the better claim,\\n', 'Because it was grassy and wanted wear;\\n', 'Though as for that the passing there\\n', 'Had worn them really about the same,\\n', '\\n', 'And both that morning equally lay\\n', 'In leaves no step had trodden black.\\n', 'Oh, I kept the first for another day!\\n', 'Yet knowing how way leads on to way,\\n', 'I doubted if I should ever come back.\\n', '\\n', 'I shall be telling this with a sigh\\n', 'Somewhere ages and ages hence:\\n', 'Two roads diverged in a wood, and I—\\n', 'I took the one less traveled by,\\n', 'And that has made all the difference.']\n"
     ]
    }
   ],
   "source": [
    "#code for reading words in the python file\n",
    "with open('poem.txt', 'r') as file:\n",
    "    print(file.readlines())"
   ]
  },
  {
   "cell_type": "code",
   "execution_count": 10,
   "id": "35d81c89",
   "metadata": {},
   "outputs": [
    {
     "name": "stdout",
     "output_type": "stream",
     "text": [
      "['Two', 'roads', 'diverged', 'in', 'a', 'yellow', 'wood,', 'And', 'sorry', 'I', 'could', 'not', 'travel', 'both', 'And', 'be', 'one', 'traveler,', 'long', 'I', 'stood', 'And', 'looked', 'down', 'one', 'as', 'far', 'as', 'I', 'could', 'To', 'where', 'it', 'bent', 'in', 'the', 'undergrowth;', 'Then', 'took', 'the', 'other,', 'as', 'just', 'as', 'fair,', 'And', 'having', 'perhaps', 'the', 'better', 'claim,', 'Because', 'it', 'was', 'grassy', 'and', 'wanted', 'wear;', 'Though', 'as', 'for', 'that', 'the', 'passing', 'there', 'Had', 'worn', 'them', 'really', 'about', 'the', 'same,', 'And', 'both', 'that', 'morning', 'equally', 'lay', 'In', 'leaves', 'no', 'step', 'had', 'trodden', 'black.', 'Oh,', 'I', 'kept', 'the', 'first', 'for', 'another', 'day!', 'Yet', 'knowing', 'how', 'way', 'leads', 'on', 'to', 'way,', 'I', 'doubted', 'if', 'I', 'should', 'ever', 'come', 'back.', 'I', 'shall', 'be', 'telling', 'this', 'with', 'a', 'sigh', 'Somewhere', 'ages', 'and', 'ages', 'hence:', 'Two', 'roads', 'diverged', 'in', 'a', 'wood,', 'and', 'I—', 'I', 'took', 'the', 'one', 'less', 'traveled', 'by,', 'And', 'that', 'has', 'made', 'all', 'the', 'difference.']\n"
     ]
    },
    {
     "data": {
      "text/plain": [
       "144"
      ]
     },
     "execution_count": 10,
     "metadata": {},
     "output_type": "execute_result"
    }
   ],
   "source": [
    "filepath = 'poem.txt'\n",
    "with open(filepath, 'r') as file:\n",
    "    content = file.read() #reads the content in the text file\n",
    "    words = content.split() #split the words in the python file\n",
    "    #words = content.split()   \n",
    "print(words)\n",
    "len(words)"
   ]
  },
  {
   "cell_type": "markdown",
   "id": "be5b7385",
   "metadata": {},
   "source": [
    "2. `stocks.csv` contains stock price, earnings per share and book value. You are writing a stock market application that will process this file and create a new file with financial metrics such as pe ratio and price to book ratio. These are calculated as,"
   ]
  },
  {
   "cell_type": "raw",
   "id": "b2da9fa5",
   "metadata": {},
   "source": [
    "pe ratio = price / earnings per share\n",
    "price to book ratio = price / book value"
   ]
  },
  {
   "cell_type": "code",
   "execution_count": 20,
   "id": "970544ca",
   "metadata": {},
   "outputs": [],
   "source": [
    "with open ('stocks.csv', 'r') as f, open(\"output.csv\", 'w') as out:\n",
    "    out.write(\"Company Name, PE Ratio, PB Ratio \\n\")\n",
    "    next(f) #Skips the first line\n",
    "    for line in f:\n",
    "        tokens = line.split(\",\")\n",
    "        stock = tokens[0]\n",
    "        price = float(tokens[1])\n",
    "        eps = float(tokens[2])\n",
    "        book = float(tokens[3])\n",
    "        \n",
    "        pe = round(price/eps, 2)\n",
    "        pb = round(price/book, 2)\n",
    "        out.write(f\"{stock}, {pe}, {pb}\\n\")"
   ]
  },
  {
   "cell_type": "code",
   "execution_count": 35,
   "id": "79a7f0d7",
   "metadata": {},
   "outputs": [
    {
     "name": "stdout",
     "output_type": "stream",
     "text": [
      "Company Name,Price,Earnings Per Share, Book Value\n",
      "Reliance,1467,66,653\n",
      "Tata Steel,391,89,572\n",
      "Infosys,650,35,147\n",
      "Axis Bank,739,19,263\n",
      "Bajaj Finance,4044,69,341\n"
     ]
    }
   ],
   "source": [
    "with open (\"stocks.csv\", \"r\") as f:\n",
    "    contents = f.read()\n",
    "print(contents)\n"
   ]
  },
  {
   "cell_type": "code",
   "execution_count": 30,
   "id": "ea02fd64",
   "metadata": {},
   "outputs": [
    {
     "name": "stdout",
     "output_type": "stream",
     "text": [
      "Company Name, PE Ratio, PB Ratio \n",
      "Reliance, 22.23, 2.25\n",
      "Tata Steel, 4.39, 0.68\n",
      "Infosys, 18.57, 4.42\n",
      "Axis Bank, 38.89, 2.81\n",
      "Bajaj Finance, 58.61, 11.86\n",
      "\n"
     ]
    }
   ],
   "source": [
    "with open (\"output.csv\", \"r\") as f:\n",
    "    content = f.read()\n",
    "    \n",
    "print(content)"
   ]
  },
  {
   "cell_type": "code",
   "execution_count": 31,
   "id": "416b4381",
   "metadata": {},
   "outputs": [
    {
     "data": {
      "text/plain": [
       "['Bajaj Finance', '4044', '69', '341']"
      ]
     },
     "execution_count": 31,
     "metadata": {},
     "output_type": "execute_result"
    }
   ],
   "source": [
    "tokens"
   ]
  },
  {
   "cell_type": "markdown",
   "id": "19b66fd5-bfc6-4815-b701-36edffdbfad0",
   "metadata": {},
   "source": [
    "## Exercise: Python Class and Object"
   ]
  },
  {
   "cell_type": "markdown",
   "id": "065b534e-7c71-4cc6-9e25-b642c0d1d165",
   "metadata": {},
   "source": [
    "Create a sample class named Employee with two attributes id and name\n"
   ]
  },
  {
   "cell_type": "raw",
   "id": "bb4b3058-d3c3-46cc-8141-3b4d90758e4f",
   "metadata": {},
   "source": [
    "employee :\n",
    "    id\n",
    "    name"
   ]
  },
  {
   "cell_type": "code",
   "execution_count": 9,
   "id": "452baf23-420c-4a70-a6c5-5e381eb836d6",
   "metadata": {},
   "outputs": [],
   "source": [
    "class employee: #defined class\n",
    "    def __init__(self, id, name): #method: job of a class\n",
    "        self.id = id\n",
    "        self.name = name"
   ]
  },
  {
   "cell_type": "code",
   "execution_count": 15,
   "id": "42a57371-db5d-4add-9dcc-4e3e02c24f98",
   "metadata": {},
   "outputs": [
    {
     "name": "stdout",
     "output_type": "stream",
     "text": [
      "The Eployee ID is 102 and name is John\n"
     ]
    }
   ],
   "source": [
    "employee1 = employee(102, \"John\")  #obeject\n",
    "print(f\"The Eployee ID is {employee1.id} and name is {employee1.name}\")"
   ]
  },
  {
   "cell_type": "markdown",
   "id": "45bdf5ec-ec28-4808-8e1e-82794e1b4e8a",
   "metadata": {},
   "source": [
    "2. Use del property to first delete id attribute and then the entire object"
   ]
  },
  {
   "cell_type": "code",
   "execution_count": 16,
   "id": "32afb63a-1dfd-4347-93e2-c02f7e044ab9",
   "metadata": {},
   "outputs": [
    {
     "name": "stdout",
     "output_type": "stream",
     "text": [
      "f{employee1.__dict__}\n"
     ]
    }
   ],
   "source": [
    "del employee1.id\n",
    "print(\"f{employee1.__dict__}\")"
   ]
  },
  {
   "cell_type": "code",
   "execution_count": 19,
   "id": "7f23ad77-2fd9-4c45-bda3-0bf3fc487ab7",
   "metadata": {},
   "outputs": [
    {
     "ename": "AttributeError",
     "evalue": "'employee' object has no attribute 'id'",
     "output_type": "error",
     "traceback": [
      "\u001b[0;31m---------------------------------------------------------------------------\u001b[0m",
      "\u001b[0;31mAttributeError\u001b[0m                            Traceback (most recent call last)",
      "Input \u001b[0;32mIn [19]\u001b[0m, in \u001b[0;36m<cell line: 1>\u001b[0;34m()\u001b[0m\n\u001b[0;32m----> 1\u001b[0m \u001b[43memployee1\u001b[49m\u001b[38;5;241;43m.\u001b[39;49m\u001b[43mid\u001b[49m\n",
      "\u001b[0;31mAttributeError\u001b[0m: 'employee' object has no attribute 'id'"
     ]
    }
   ],
   "source": [
    "employee1.id"
   ]
  },
  {
   "cell_type": "code",
   "execution_count": 20,
   "id": "00d52f17-7f62-44ff-966f-7db01e7081bb",
   "metadata": {},
   "outputs": [
    {
     "data": {
      "text/plain": [
       "'John'"
      ]
     },
     "execution_count": 20,
     "metadata": {},
     "output_type": "execute_result"
    }
   ],
   "source": [
    "employee1.name"
   ]
  },
  {
   "cell_type": "markdown",
   "id": "c1f4107b-539e-4089-bdc4-1c7bc75f07db",
   "metadata": {},
   "source": [
    "## Exercise: Inheritance"
   ]
  },
  {
   "cell_type": "markdown",
   "id": "2ffc1f93-19c3-4667-972c-bdcca44c4af0",
   "metadata": {},
   "source": [
    "1. Create inheritance using animal dog relation.\n"
   ]
  },
  {
   "cell_type": "raw",
   "id": "3cb03102-a8e6-426b-868b-37900169d902",
   "metadata": {},
   "source": [
    "for example, \n",
    "    Animal and Dog both has same habitat so create a method for habitat \n",
    "    \n",
    "class Animal:\n",
    "   #code\n",
    "\n",
    "class Dog(Animal):\n",
    "    super()-it refers Animal class,now you can call Animal's methods."
   ]
  },
  {
   "cell_type": "code",
   "execution_count": 25,
   "id": "ff6a2347-0a90-49e6-8bbd-0a148f9f2269",
   "metadata": {},
   "outputs": [],
   "source": [
    "class Animal:\n",
    "    def __init__(self, species):\n",
    "        self.species = species\n",
    "        \n",
    "    def habitat(self):\n",
    "        print(f\"The {self.species} lives in various habitats.\")\n",
    "        \n",
    "class Dog(Animal): #Class Dog inherit information from the class Animal\n",
    "    def __init__(self, species, breed):\n",
    "        super().__init__(species)\n",
    "        self.breed = breed\n",
    "\n",
    "  #super() ...method allow us the child class to directly inherit the method from the parent class.      "
   ]
  },
  {
   "cell_type": "code",
   "execution_count": 26,
   "id": "4604209d-6740-409d-bf7d-8bed349759a8",
   "metadata": {},
   "outputs": [
    {
     "name": "stdout",
     "output_type": "stream",
     "text": [
      "The Generic Animal lives in various habitats.\n",
      "The Dog lives in various habitats.\n"
     ]
    }
   ],
   "source": [
    "# Example usage:\n",
    "animal = Animal(\"Generic Animal\")\n",
    "animal.habitat()\n",
    "\n",
    "dog = Dog(\"Dog\", \"Golden Retriever\")\n",
    "dog.habitat()  # This will use the habitat method from the Animal class through inheritance"
   ]
  },
  {
   "cell_type": "markdown",
   "id": "3198fee1-21b5-4613-bb42-500ab5c3d76f",
   "metadata": {},
   "source": [
    "## Exercise: Multiple Inheritance\n",
    "\n",
    "Real Life Example:\n",
    "\n",
    "1. Create multiple inheritance on teacher, student, youtuber.\n"
   ]
  },
  {
   "cell_type": "raw",
   "id": "140de71e-d08b-4c0d-825b-c34290c68dbe",
   "metadata": {},
   "source": [
    "Q. if we have created teacher and now one student joins master degree with becoming teacher then what??\n",
    "\n",
    "Ans :  just make subclass from  teacher so that student will become teacher"
   ]
  },
  {
   "cell_type": "code",
   "execution_count": 34,
   "id": "74728e7e-1fae-486e-93e3-8aa27a7700df",
   "metadata": {},
   "outputs": [
    {
     "name": "stdout",
     "output_type": "stream",
     "text": [
      "I work as a teacher.\n",
      "I code.\n",
      "I can code and teach\n"
     ]
    }
   ],
   "source": [
    "class teacher():\n",
    "    def teacher_job(self):\n",
    "        print(\"I work as a teacher.\")\n",
    "        \n",
    "class engineer():\n",
    "     def engineer_job(self):\n",
    "        print(\"I code.\")\n",
    "        \n",
    "class youtuber():\n",
    "    def youtuber_job(self):\n",
    "        print(\"I can code and teach\")\n",
    "        \n",
    "class person(teacher, engineer, youtuber):\n",
    "    pass\n",
    "\n",
    "coder = person()\n",
    "coder.teacher_job()\n",
    "coder.engineer_job()\n",
    "coder.youtuber_job()"
   ]
  },
  {
   "cell_type": "raw",
   "id": "5f96b7e9-3fe2-44d2-ab84-3f2c5b39596d",
   "metadata": {},
   "source": [
    "In the above problem, first three classes `teacher`, `engineer` and `youtuber` was defined, then another class `person` was defined. The class `person` inherits all the methods from previously mentioned three classes.  "
   ]
  }
 ],
 "metadata": {
  "kernelspec": {
   "display_name": "Python 3 (ipykernel)",
   "language": "python",
   "name": "python3"
  },
  "language_info": {
   "codemirror_mode": {
    "name": "ipython",
    "version": 3
   },
   "file_extension": ".py",
   "mimetype": "text/x-python",
   "name": "python",
   "nbconvert_exporter": "python",
   "pygments_lexer": "ipython3",
   "version": "3.9.13"
  }
 },
 "nbformat": 4,
 "nbformat_minor": 5
}
