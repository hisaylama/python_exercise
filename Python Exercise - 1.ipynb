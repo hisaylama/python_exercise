{
 "cells": [
  {
   "cell_type": "markdown",
   "id": "d2872090",
   "metadata": {},
   "source": [
    "## Exercise: Numbers"
   ]
  },
  {
   "cell_type": "markdown",
   "id": "5fa3d861",
   "metadata": {},
   "source": [
    "1. You have a football field that is 92 meter long and 48.8 meter wide. Find out total area using python and print it."
   ]
  },
  {
   "cell_type": "code",
   "execution_count": 1,
   "id": "9e618d87",
   "metadata": {},
   "outputs": [],
   "source": [
    "football_length = 92"
   ]
  },
  {
   "cell_type": "code",
   "execution_count": 2,
   "id": "cf9e4295",
   "metadata": {},
   "outputs": [],
   "source": [
    "football_width = 48.8"
   ]
  },
  {
   "cell_type": "code",
   "execution_count": 3,
   "id": "5f59bf9a",
   "metadata": {},
   "outputs": [
    {
     "name": "stdout",
     "output_type": "stream",
     "text": [
      "Area of football field: 4489.599999999999 m^2\n"
     ]
    }
   ],
   "source": [
    "football_area = football_length*football_width \n",
    "print(\"Area of football field:\", football_area, \"m^2\")"
   ]
  },
  {
   "cell_type": "markdown",
   "id": "76983e3f",
   "metadata": {},
   "source": [
    "2. You bought 9 packets of potato chips from a store. Each packet costs 1.49 dollar and you gave shopkeeper 20 dollar. Find out using python, how many dollars is the shopkeeper going to give you back?"
   ]
  },
  {
   "cell_type": "code",
   "execution_count": 4,
   "id": "18efb6a4",
   "metadata": {},
   "outputs": [
    {
     "name": "stdout",
     "output_type": "stream",
     "text": [
      "6.59\n"
     ]
    }
   ],
   "source": [
    "potato_chip_pkd_price = 1.49\n",
    "total_cost = 9*potato_chip_pkd_price\n",
    "money_given = 20\n",
    "money_return = 20 - total_cost\n",
    "print(money_return)"
   ]
  },
  {
   "cell_type": "markdown",
   "id": "7093757d",
   "metadata": {},
   "source": [
    "3. You want to replace tiles in your bathroom which is exactly square and 5.5 feet is its length. If tiles cost 500 rs per square feet, how much will be the total cost to replace all tiles. Calculate and print the cost using python (Hint: Use power operator ** to find area of a square)"
   ]
  },
  {
   "cell_type": "code",
   "execution_count": 5,
   "id": "024ed33a",
   "metadata": {},
   "outputs": [
    {
     "name": "stdout",
     "output_type": "stream",
     "text": [
      "15125.0\n"
     ]
    }
   ],
   "source": [
    "length_bathroom = 5.5\n",
    "area_bathroom = 5.5**2\n",
    "cost_per_sqft = 500\n",
    "total_cost = area_bathroom *cost_per_sqft\n",
    "print(total_cost)"
   ]
  },
  {
   "cell_type": "markdown",
   "id": "60176a3a",
   "metadata": {},
   "source": [
    "4. Write a boolean representation of a number 17."
   ]
  },
  {
   "cell_type": "code",
   "execution_count": 6,
   "id": "e46b2a59",
   "metadata": {},
   "outputs": [
    {
     "name": "stdout",
     "output_type": "stream",
     "text": [
      "Binary of number 17 is: 10001\n"
     ]
    }
   ],
   "source": [
    "num=17\n",
    "print('Binary of number 17 is:',format(num,'b')) # Ans: 10001\n",
    "#b stands for binary"
   ]
  },
  {
   "cell_type": "code",
   "execution_count": 7,
   "id": "490222b0",
   "metadata": {},
   "outputs": [
    {
     "name": "stdout",
     "output_type": "stream",
     "text": [
      "Help on built-in function format in module builtins:\n",
      "\n",
      "format(value, format_spec='', /)\n",
      "    Return value.__format__(format_spec)\n",
      "    \n",
      "    format_spec defaults to the empty string.\n",
      "    See the Format Specification Mini-Language section of help('FORMATTING') for\n",
      "    details.\n",
      "\n"
     ]
    }
   ],
   "source": [
    "help(format)"
   ]
  },
  {
   "cell_type": "markdown",
   "id": "6a8b8fa3",
   "metadata": {},
   "source": [
    "## Exercise: Strings in Python"
   ]
  },
  {
   "cell_type": "markdown",
   "id": "53a3a705",
   "metadata": {},
   "source": [
    "1. Create 3 varaibles to store street, city and country, now creates address variable to store entire address. Use two ways of creating this variable, one using + operator and the other using f-string. Now print the address in such a way that the street, city, and country prints in a separate line."
   ]
  },
  {
   "cell_type": "code",
   "execution_count": 8,
   "id": "17773dbf",
   "metadata": {},
   "outputs": [
    {
     "name": "stdout",
     "output_type": "stream",
     "text": [
      "8 Mayur Bhanj Road, Kolkata, India\n"
     ]
    }
   ],
   "source": [
    "street = \"8 Mayur Bhanj Road\"\n",
    "city = \"Kolkata\"\n",
    "country = \"India\"\n",
    "address = street + \", \" + city + \", \" + country\n",
    "print(address)"
   ]
  },
  {
   "cell_type": "code",
   "execution_count": 9,
   "id": "af388f9e",
   "metadata": {
    "scrolled": true
   },
   "outputs": [
    {
     "name": "stdout",
     "output_type": "stream",
     "text": [
      "8 Mayur Bhanj Road\n",
      "Kolkata\n",
      "India\n",
      "\n"
     ]
    }
   ],
   "source": [
    "address = \"\"\"8 Mayur Bhanj Road\n",
    "Kolkata\n",
    "India\n",
    "\"\"\"\n",
    "print(address)"
   ]
  },
  {
   "cell_type": "code",
   "execution_count": 10,
   "id": "757c5ceb",
   "metadata": {},
   "outputs": [
    {
     "data": {
      "text/plain": [
       "'My address is: 8 Mayur Bhanj Road, Kolkata, India.'"
      ]
     },
     "execution_count": 10,
     "metadata": {},
     "output_type": "execute_result"
    }
   ],
   "source": [
    "f\"My address is: {street}, {city}, {country}.\""
   ]
  },
  {
   "cell_type": "markdown",
   "id": "c715b32a",
   "metadata": {},
   "source": [
    "The F-strings assists in terpolation of the strings in a concise manner."
   ]
  },
  {
   "cell_type": "markdown",
   "id": "1b8789b8",
   "metadata": {},
   "source": [
    "Create a variable to store the string \"Earth revolves around the sun\"\n",
    "\n",
    "-  Print \"revolves\" using slice operator\n",
    "- Print \"sun\" using negative index"
   ]
  },
  {
   "cell_type": "code",
   "execution_count": 11,
   "id": "117e4db7",
   "metadata": {},
   "outputs": [
    {
     "name": "stdout",
     "output_type": "stream",
     "text": [
      "sun\n"
     ]
    }
   ],
   "source": [
    "sen1 = \"Earth revolves around the sun\"\n",
    "print(sen1[-3: ])"
   ]
  },
  {
   "cell_type": "code",
   "execution_count": 12,
   "id": "79e6980e",
   "metadata": {},
   "outputs": [
    {
     "name": "stdout",
     "output_type": "stream",
     "text": [
      "revolves\n"
     ]
    }
   ],
   "source": [
    "print(sen1[6:14])"
   ]
  },
  {
   "cell_type": "markdown",
   "id": "c196d610",
   "metadata": {},
   "source": [
    "3. Create two variables to store how many fruits and vegetables you eat in a day. Now Print \"I eat x veggies and y fruits daily\" where x and y presents vegetables and fruits that you eat everyday. Use python f string for this."
   ]
  },
  {
   "cell_type": "code",
   "execution_count": 13,
   "id": "f10f3035",
   "metadata": {},
   "outputs": [
    {
     "name": "stdout",
     "output_type": "stream",
     "text": [
      " I eat 1 veggies and 5 fruits daily\n"
     ]
    }
   ],
   "source": [
    "x = 1\n",
    "y = 5\n",
    "print(f\" I eat {x} veggies and {y} fruits daily\" )"
   ]
  },
  {
   "cell_type": "markdown",
   "id": "eb1a9b4f",
   "metadata": {},
   "source": [
    "5. I have a string variable called s='maine 200 banana khaye'. This of course is a wrong statement, the correct statement is 'maine 10 samosa khaye'. Replace incorrect words in original strong with new ones and print the new string. Also try to do this in one line."
   ]
  },
  {
   "cell_type": "code",
   "execution_count": 14,
   "id": "f0b7118c",
   "metadata": {},
   "outputs": [
    {
     "name": "stdout",
     "output_type": "stream",
     "text": [
      "maine 10 samosa khaye\n"
     ]
    }
   ],
   "source": [
    "x1 = 10\n",
    "eatery = \"samosa\"\n",
    "print(f\"maine {x1} {eatery} khaye\")"
   ]
  },
  {
   "cell_type": "code",
   "execution_count": 15,
   "id": "5499a68d",
   "metadata": {},
   "outputs": [
    {
     "name": "stdout",
     "output_type": "stream",
     "text": [
      "Using single line: maine 10 samosa khaye\n"
     ]
    }
   ],
   "source": [
    "s = \"maine 200 banana khaye\"\n",
    "s = s.replace('banana', 'samosa').replace('200', '10')\n",
    "print(\"Using single line:\", s)"
   ]
  },
  {
   "cell_type": "markdown",
   "id": "c98304d0",
   "metadata": {},
   "source": [
    "## Exercise: Python Lists\n"
   ]
  },
  {
   "cell_type": "markdown",
   "id": "e9f0135a",
   "metadata": {},
   "source": [
    "Let us say your expense for every month are listed below,\\\n",
    "January - 2200\\\n",
    "February - 2350\\\n",
    "March - 2600\\\n",
    "April - 2130\\\n",
    "May - 2190\\\n",
    "Create a list to store these monthly expenses and using that find out,\n",
    "\n"
   ]
  },
  {
   "cell_type": "raw",
   "id": "317c4cd7",
   "metadata": {},
   "source": [
    "1. In Feb, how many dollars you spent extra compare to January?\n",
    "2. Find out your total expense in first quarter (first three months) of the year.\n",
    "3. Find out if you spent exactly 2000 dollars in any month\n",
    "4. June month just finished and your expense is 1980 dollar. Add this item to our monthly expense list\n",
    "5. You returned an item that you bought in a month of April and\n",
    "got a refund of 200$. Make a correction to your monthly expense list\n",
    "based on this"
   ]
  },
  {
   "cell_type": "code",
   "execution_count": 16,
   "id": "6a710f3f",
   "metadata": {},
   "outputs": [
    {
     "name": "stdout",
     "output_type": "stream",
     "text": [
      "150\n"
     ]
    }
   ],
   "source": [
    "months = [\"January\", \"February\", \"March\", \"April\", \"May\"]\n",
    "expenses = [2200, 2350, 2600, 2130, 2190]\n",
    "\n",
    "extra_spent = expenses[1] - expenses[0]\n",
    "print(extra_spent)"
   ]
  },
  {
   "cell_type": "code",
   "execution_count": 17,
   "id": "f4729aac",
   "metadata": {},
   "outputs": [
    {
     "name": "stdout",
     "output_type": "stream",
     "text": [
      "7150\n"
     ]
    }
   ],
   "source": [
    "total_first_qtr_expen = expenses[0] + expenses[1] + expenses[2]\n",
    "print(total_first_qtr_expen)"
   ]
  },
  {
   "cell_type": "code",
   "execution_count": 18,
   "id": "7687c327",
   "metadata": {},
   "outputs": [
    {
     "name": "stdout",
     "output_type": "stream",
     "text": [
      "[2200, 2350, 2600, 2330, 2190]\n"
     ]
    }
   ],
   "source": [
    "expenses[3] = 2330\n",
    "print(expenses)"
   ]
  },
  {
   "cell_type": "markdown",
   "id": "fc4615e7",
   "metadata": {},
   "source": [
    "You have a list of your favourite marvel super heros.\\\n",
    "heros=['spider man','thor','hulk','iron man','captain america']\\\n",
    "Using this find out,\n",
    "\n",
    "1. Length of the list\n",
    "2. Add 'black panther' at the end of this list\n",
    "3. You realize that you need to add 'black panther' after 'hulk',\n",
    "   so remove it from the list first and then add it after 'hulk'\n",
    "4. Now you don't like thor and hulk because they get angry easily :)\n",
    "   So you want to remove thor and hulk from list and replace them with doctor strange (because he is cool).\n",
    "   Do that with one line of code.\n",
    "5. Sort the heros list in alphabetical order (Hint. Use dir() functions to list down all functions available in list)\n"
   ]
  },
  {
   "cell_type": "code",
   "execution_count": 19,
   "id": "9e17607b",
   "metadata": {},
   "outputs": [],
   "source": [
    "heros=['spider man','thor','hulk','iron man','captain america']"
   ]
  },
  {
   "cell_type": "code",
   "execution_count": 20,
   "id": "66d63d15",
   "metadata": {},
   "outputs": [
    {
     "data": {
      "text/plain": [
       "5"
      ]
     },
     "execution_count": 20,
     "metadata": {},
     "output_type": "execute_result"
    }
   ],
   "source": [
    "len(heros)"
   ]
  },
  {
   "cell_type": "code",
   "execution_count": 21,
   "id": "6a2baeb5",
   "metadata": {},
   "outputs": [
    {
     "name": "stdout",
     "output_type": "stream",
     "text": [
      "['spider man', 'thor', 'hulk', 'iron man', 'captain america', 'black panther']\n"
     ]
    }
   ],
   "source": [
    "heros.append(\"black panther\")\n",
    "print(heros)"
   ]
  },
  {
   "cell_type": "code",
   "execution_count": 22,
   "id": "d8fe043a",
   "metadata": {},
   "outputs": [
    {
     "name": "stdout",
     "output_type": "stream",
     "text": [
      "['spider man', 'thor', 'hulk', 'black panther', 'iron man', 'captain america']\n"
     ]
    }
   ],
   "source": [
    "#heros.remove(\"black panther\")\n",
    "del(heros[-1])\n",
    "heros.insert(3, \"black panther\")\n",
    "print(heros)"
   ]
  },
  {
   "cell_type": "code",
   "execution_count": 23,
   "id": "954c03e6",
   "metadata": {},
   "outputs": [
    {
     "name": "stdout",
     "output_type": "stream",
     "text": [
      "['spider man', 'hulk', 'black panther', 'iron man', 'captain america']\n"
     ]
    }
   ],
   "source": [
    "del(heros[1:2])\n",
    "print(heros)"
   ]
  },
  {
   "cell_type": "code",
   "execution_count": 24,
   "id": "83afe174",
   "metadata": {},
   "outputs": [
    {
     "name": "stdout",
     "output_type": "stream",
     "text": [
      "['spider man', 'doctor strange', 'hulk', 'black panther', 'iron man', 'captain america']\n"
     ]
    }
   ],
   "source": [
    "heros.insert(1, \"doctor strange\")\n",
    "print(heros)"
   ]
  },
  {
   "cell_type": "code",
   "execution_count": 25,
   "id": "dbb18bdb",
   "metadata": {},
   "outputs": [
    {
     "name": "stdout",
     "output_type": "stream",
     "text": [
      "['black panther', 'captain america', 'doctor strange', 'hulk', 'iron man', 'spider man']\n"
     ]
    }
   ],
   "source": [
    "heros.sort()\n",
    "print(heros)"
   ]
  },
  {
   "cell_type": "code",
   "execution_count": 26,
   "id": "4f7b22f4",
   "metadata": {},
   "outputs": [
    {
     "data": {
      "text/plain": [
       "['__add__',\n",
       " '__class__',\n",
       " '__class_getitem__',\n",
       " '__contains__',\n",
       " '__delattr__',\n",
       " '__delitem__',\n",
       " '__dir__',\n",
       " '__doc__',\n",
       " '__eq__',\n",
       " '__format__',\n",
       " '__ge__',\n",
       " '__getattribute__',\n",
       " '__getitem__',\n",
       " '__gt__',\n",
       " '__hash__',\n",
       " '__iadd__',\n",
       " '__imul__',\n",
       " '__init__',\n",
       " '__init_subclass__',\n",
       " '__iter__',\n",
       " '__le__',\n",
       " '__len__',\n",
       " '__lt__',\n",
       " '__mul__',\n",
       " '__ne__',\n",
       " '__new__',\n",
       " '__reduce__',\n",
       " '__reduce_ex__',\n",
       " '__repr__',\n",
       " '__reversed__',\n",
       " '__rmul__',\n",
       " '__setattr__',\n",
       " '__setitem__',\n",
       " '__sizeof__',\n",
       " '__str__',\n",
       " '__subclasshook__',\n",
       " 'append',\n",
       " 'clear',\n",
       " 'copy',\n",
       " 'count',\n",
       " 'extend',\n",
       " 'index',\n",
       " 'insert',\n",
       " 'pop',\n",
       " 'remove',\n",
       " 'reverse',\n",
       " 'sort']"
      ]
     },
     "execution_count": 26,
     "metadata": {},
     "output_type": "execute_result"
    }
   ],
   "source": [
    "dir(heros)"
   ]
  },
  {
   "cell_type": "markdown",
   "id": "97d0cc1a",
   "metadata": {},
   "source": [
    "## Exercise: Python If Condition"
   ]
  },
  {
   "cell_type": "markdown",
   "id": "72bd693a",
   "metadata": {},
   "source": [
    "Using following list of cities per country,\\\n",
    "india = [\"mumbai\", \"banglore\", \"chennai\", \"delhi\"]\\\n",
    "pakistan = [\"lahore\",\"karachi\",\"islamabad\"]\\\n",
    "bangladesh = [\"dhaka\", \"khulna\", \"rangpur\"]\\\n",
    "1. Write a program that asks user to enter a city name and it should tell which country the city belongs to\n",
    "2. Write a program that asks user to enter two cities and it tells you if they both are in same country or not. For example if I enter mumbai and chennai, it will print \"Both cities are in India\" but if I enter mumbai and dhaka it should print \"They don't belong to same country\""
   ]
  },
  {
   "cell_type": "code",
   "execution_count": 27,
   "id": "98a94b99",
   "metadata": {},
   "outputs": [
    {
     "name": "stdout",
     "output_type": "stream",
     "text": [
      "Write your city name:india\n",
      "Country not Found!\n"
     ]
    }
   ],
   "source": [
    "india = [\"mumbai\", \"banglore\", \"chennai\", \"delhi\"]\n",
    "pakistan = [\"lahore\",\"karachi\",\"islamabad\"]\n",
    "bangladesh = [\"dhaka\", \"khulna\", \"rangpur\"]\n",
    "\n",
    "city_name = input(\"Write your city name:\")\n",
    "\n",
    "if city_name in india:\n",
    "    print(\"Your country is India\")\n",
    "elif city_name in pakistan:\n",
    "    print(\"Your country is Pakistan\")\n",
    "elif city_name in bangladesh:\n",
    "    print(\"Your country is Bangladesh\")\n",
    "else:\n",
    "    print(\"Country not Found!\")"
   ]
  },
  {
   "cell_type": "markdown",
   "id": "3cd19a12",
   "metadata": {},
   "source": [
    "2. Write a program that asks user to enter two cities and it tells you if they both are in same country or not. For example if I enter mumbai and chennai, it will print \"Both cities are in India\" but if I enter mumbai and dhaka it should print \"They don't belong to same country\""
   ]
  },
  {
   "cell_type": "code",
   "execution_count": 28,
   "id": "007389ba",
   "metadata": {},
   "outputs": [
    {
     "name": "stdout",
     "output_type": "stream",
     "text": [
      "Write your first city name:kolkata\n",
      "Write your second city name:chennai\n",
      "They don't belong to same country\n"
     ]
    }
   ],
   "source": [
    "city_name1 = input(\"Write your first city name:\")\n",
    "city_name2 = input(\"Write your second city name:\")\n",
    "\n",
    "if city_name1 in india and city_name2 in india:\n",
    "    print(\"Both cities are in India\")\n",
    "else:\n",
    "    print(\"They don't belong to same country\")"
   ]
  },
  {
   "cell_type": "markdown",
   "id": "c5955c82",
   "metadata": {},
   "source": [
    "Write a python program that can tell you if your sugar is normal or not. Normal fasting level sugar range is 80 to 100.\n",
    "  1. Ask user to enter his fasting sugar level\n",
    "  2. If it is below 80 to 100 range then print that sugar is low\n",
    "  3. If it is above 100 then print that it is high otherwise print that it is normal"
   ]
  },
  {
   "cell_type": "code",
   "execution_count": 29,
   "id": "9319272f",
   "metadata": {},
   "outputs": [
    {
     "name": "stdout",
     "output_type": "stream",
     "text": [
      "Enter the fasting sugar level:300\n",
      "sugar is high\n"
     ]
    }
   ],
   "source": [
    "sugar_level = input(\"Enter the fasting sugar level:\")\n",
    "sugar_level = int(sugar_level)\n",
    "if sugar_level >= 80 and sugar_level < 100:\n",
    "    print(\"sugar is low\")\n",
    "elif sugar_level > 100:\n",
    "    print(\"sugar is high\")\n",
    "else:\n",
    "    print(\"sugar is normal\")\n",
    "    "
   ]
  },
  {
   "cell_type": "markdown",
   "id": "49f98c0d",
   "metadata": {},
   "source": [
    "## Exercise: Python for loop"
   ]
  },
  {
   "cell_type": "markdown",
   "id": "1d81a7cd",
   "metadata": {},
   "source": [
    "1. After flipping a coin 10 times you got this result,\n",
    "\n",
    "result = [\"heads\",\"tails\",\"tails\",\"heads\",\"tails\",\"heads\",\"heads\",\"tails\",\"tails\",\"tails\"]\\\n",
    "Using for loop figure out how many times you got heads\n"
   ]
  },
  {
   "cell_type": "code",
   "execution_count": 30,
   "id": "d8524772",
   "metadata": {},
   "outputs": [
    {
     "name": "stdout",
     "output_type": "stream",
     "text": [
      "['heads', 'tails', 'tails', 'heads', 'tails', 'heads', 'heads', 'tails', 'tails', 'tails']\n"
     ]
    }
   ],
   "source": [
    "result = [\"heads\",\"tails\",\"tails\",\"heads\",\"tails\",\"heads\",\"heads\",\"tails\",\"tails\",\"tails\"]\n",
    "print(result)"
   ]
  },
  {
   "cell_type": "code",
   "execution_count": 31,
   "id": "ef2f7b6f",
   "metadata": {},
   "outputs": [
    {
     "name": "stdout",
     "output_type": "stream",
     "text": [
      "4\n"
     ]
    }
   ],
   "source": [
    "count = 0\n",
    "for item in result:\n",
    "    if item == \"heads\":\n",
    "        count = count + 1\n",
    "        #print(item)\n",
    "print(count)"
   ]
  },
  {
   "cell_type": "markdown",
   "id": "7962008c",
   "metadata": {},
   "source": [
    "2. Print square of all numbers between 1 to 10 except even numbers\n"
   ]
  },
  {
   "cell_type": "code",
   "execution_count": 32,
   "id": "7f1162e0",
   "metadata": {},
   "outputs": [
    {
     "name": "stdout",
     "output_type": "stream",
     "text": [
      "1\n",
      "9\n",
      "25\n",
      "49\n",
      "81\n"
     ]
    }
   ],
   "source": [
    "for i in range(1, 11):\n",
    "    if i%2 != 0:\n",
    "        print(i*i)"
   ]
  },
  {
   "cell_type": "markdown",
   "id": "3a97dc71",
   "metadata": {},
   "source": [
    "3. Your monthly expense list (from Jan to May) looks like this,\\\n",
    "expense_list = [2340, 2500, 2100, 3100, 2980]\\\n",
    "Write a program that asks you to enter an expense amount and program should tell you in which month that expense occurred. If expense is not found then it should print that as well."
   ]
  },
  {
   "cell_type": "code",
   "execution_count": 33,
   "id": "c5fc6caa",
   "metadata": {},
   "outputs": [
    {
     "name": "stdout",
     "output_type": "stream",
     "text": [
      "Month: January , Expense: 2340\n",
      "Month: February , Expense: 2500\n",
      "Month: March , Expense: 2100\n",
      "Month: April , Expense: 3100\n",
      "Month: May , Expense: 2980\n"
     ]
    }
   ],
   "source": [
    "expense_list = [2340, 2500, 2100, 3100, 2980]\n",
    "month = [\"January\", \"February\", \"March\", \"April\", \"May\"]\n",
    "\n",
    "for i in range(len(expense_list)):\n",
    "    print(\"Month:\", month[i], \",\",\"Expense:\", expense_list[i])"
   ]
  },
  {
   "cell_type": "code",
   "execution_count": 34,
   "id": "dd044ba1",
   "metadata": {},
   "outputs": [
    {
     "name": "stdout",
     "output_type": "stream",
     "text": [
      "Enter the expense for this month:4000\n",
      "Expense was not found\n"
     ]
    }
   ],
   "source": [
    "expense = input(\"Enter the expense for this month:\")\n",
    "expense = int(expense)\n",
    "\n",
    "for idx in range(len(expense_list)):\n",
    "    if expense==expense_list[idx]: \n",
    "        print(\"The expense happened on\", month[idx]) \n",
    "        break        \n",
    "if expense!=expense_list[idx]:\n",
    "    print(\"Expense was not found\")\n"
   ]
  },
  {
   "cell_type": "markdown",
   "id": "1d6c30b3",
   "metadata": {},
   "source": [
    "4. Lets say you are running a 5 km race. Write a program that,\n",
    "\n",
    "(i) Upon completing each 1 km asks you \"are you tired?\"\\\n",
    "(ii) If you reply \"yes\" then it should break and print \"you didn't finish the race\"\\\n",
    "(iii) If you reply \"no\" then it should continue and ask \"are you tired\" on every km\\\n",
    "(iv) If you finish all 5 km then it should print congratulations message"
   ]
  },
  {
   "cell_type": "code",
   "execution_count": 35,
   "id": "59500e11",
   "metadata": {},
   "outputs": [
    {
     "name": "stdout",
     "output_type": "stream",
     "text": [
      "Are you tired?:no\n",
      "Are you tired?:no\n",
      "Are you tired?:yes\n",
      "Are you tired?:yes\n",
      "Are you tired?:yes\n"
     ]
    }
   ],
   "source": [
    "run = 0\n",
    "for ii in range(1,6):\n",
    "    if ii == run + ii:\n",
    "        reply = input(\"Are you tired?:\")\n",
    "        if reply == \"Yes\":\n",
    "            print( \"You didn't finish the race\")\n",
    "            break\n",
    "        elif reply == \"No\":\n",
    "            reply1 = input(\"Are you tired on every km?:\")\n",
    "            if ii < 5:\n",
    "                continue\n",
    "            elif ii == 5:\n",
    "                print(\"Congratulations!, you finished 5km race.\")     "
   ]
  },
  {
   "cell_type": "markdown",
   "id": "616935de",
   "metadata": {},
   "source": [
    "5. Write a program that prints following shape\n"
   ]
  },
  {
   "cell_type": "raw",
   "id": "5354828d",
   "metadata": {},
   "source": [
    "*\n",
    "**\n",
    "***\n",
    "****\n",
    "*****"
   ]
  },
  {
   "cell_type": "code",
   "execution_count": 36,
   "id": "91b2f547",
   "metadata": {},
   "outputs": [
    {
     "name": "stdout",
     "output_type": "stream",
     "text": [
      "*\n",
      "**\n",
      "***\n",
      "****\n",
      "*****\n"
     ]
    }
   ],
   "source": [
    "for i in range(1,6):\n",
    "    print(i*\"*\")"
   ]
  },
  {
   "cell_type": "markdown",
   "id": "60b1d44e",
   "metadata": {},
   "source": [
    "## Exercise: Functions in Python\n",
    "\n",
    "1. Write a function called calculate_area that takes base and height as an input and returns and area of a triangle. Equation of an area of a triangle is,\n"
   ]
  },
  {
   "cell_type": "raw",
   "id": "d64dbc53",
   "metadata": {},
   "source": [
    "area = (1/2)*base*height"
   ]
  },
  {
   "cell_type": "code",
   "execution_count": 37,
   "id": "daf704d0",
   "metadata": {},
   "outputs": [
    {
     "name": "stdout",
     "output_type": "stream",
     "text": [
      "The area of triangle is: 3.0 cm^2\n"
     ]
    }
   ],
   "source": [
    "def area(base, height):\n",
    "    Area = (1/2)*base*height\n",
    "    return Area\n",
    "print(\"The area of triangle is:\", area(2,3), \"cm^2\")"
   ]
  },
  {
   "cell_type": "markdown",
   "id": "dfc02e5e",
   "metadata": {},
   "source": [
    "2. Modify above function to take third parameter shape type. It can be either \"triangle\" or \"rectangle\". Based on shape type it will calculate area. Equation of rectangle's area is,"
   ]
  },
  {
   "cell_type": "raw",
   "id": "9bc56a40",
   "metadata": {},
   "source": [
    "rectangle area=length*width"
   ]
  },
  {
   "cell_type": "code",
   "execution_count": 38,
   "id": "12d2d033",
   "metadata": {},
   "outputs": [
    {
     "name": "stdout",
     "output_type": "stream",
     "text": [
      "The area of triangle is: 3.0 cm^2\n"
     ]
    }
   ],
   "source": [
    "def area(base, height, type):\n",
    "    if type == \"rectangle\":\n",
    "        length = base\n",
    "        width = height\n",
    "        Area = length*width\n",
    "    elif type == \"triangle\":\n",
    "        Area = (1/2)*base*height\n",
    "    else:\n",
    "        Area = (1/2)*base*height\n",
    "    return Area\n",
    "print(\"The area of triangle is:\", area(2,3, \" \"), \"cm^2\")"
   ]
  },
  {
   "cell_type": "markdown",
   "id": "9083c947",
   "metadata": {},
   "source": [
    "3. Write a function called print_pattern that takes integer number as an argument and prints following pattern if input number is 3,"
   ]
  },
  {
   "cell_type": "raw",
   "id": "5095b6dc",
   "metadata": {},
   "source": [
    "*\n",
    "**\n",
    "***"
   ]
  },
  {
   "cell_type": "markdown",
   "id": "0cdf33aa",
   "metadata": {},
   "source": [
    "if input is 4 then it should print"
   ]
  },
  {
   "cell_type": "raw",
   "id": "fdef751f",
   "metadata": {},
   "source": [
    "*\n",
    "**\n",
    "***\n",
    "****"
   ]
  },
  {
   "cell_type": "code",
   "execution_count": 39,
   "id": "1c513f21",
   "metadata": {},
   "outputs": [
    {
     "name": "stdout",
     "output_type": "stream",
     "text": [
      "*\n",
      "**\n",
      "***\n",
      "****\n"
     ]
    }
   ],
   "source": [
    "def print_pattern(input_number):\n",
    "    for i in range(1,input_number + 1):\n",
    "            print(i*\"*\")\n",
    "            \n",
    "print_pattern(input_number = 4)       "
   ]
  },
  {
   "cell_type": "markdown",
   "id": "868beb45",
   "metadata": {},
   "source": [
    "## Exercise: Python Dict and Tuples\n",
    "\n",
    "1. We have following information on countries and their population (population is in crores),\n",
    "\n",
    "    |Country|Population|\n",
    "    |-------|----------|\n",
    "    |China|143|\n",
    "    |India|136|\n",
    "    |USA|32|\n",
    "    |Pakistan|21|   \n",
    "  \n",
    "1. Using above create a dictionary of countries and its population\n",
    "2. Write a program that asks user for three type of inputs,\n",
    "        1. print: if user enter print then it should print all countries with their population in this format,\n",
    "            ```\n",
    "            china==>143\n",
    "            india==>136\n",
    "            usa==>32\n",
    "            pakistan==>21\n",
    "            ```"
   ]
  },
  {
   "cell_type": "code",
   "execution_count": 40,
   "id": "cdfa8e7c",
   "metadata": {},
   "outputs": [
    {
     "name": "stdout",
     "output_type": "stream",
     "text": [
      "China ==> 143\n",
      "India ==> 136\n",
      "USA ==> 32\n",
      "Pakistan ==> 21\n"
     ]
    }
   ],
   "source": [
    "d = {\"China\": 143, \n",
    "    \"India\": 136,\n",
    "    \"USA\": 32,\n",
    "    \"Pakistan\": 21}\n",
    "#Print dcitionary\n",
    "for key, value in d.items():\n",
    "    print(key, \"==>\",value)"
   ]
  },
  {
   "cell_type": "markdown",
   "id": "e474d14d",
   "metadata": {},
   "source": [
    "a. `add`: if user input add then it should further ask for a country name to add. If country already exist in our dataset then it should print that it exist and do nothing. If it doesn't then it asks for population and add that new country/population in our dictionary and print it"
   ]
  },
  {
   "cell_type": "code",
   "execution_count": 41,
   "id": "4f190038",
   "metadata": {},
   "outputs": [],
   "source": [
    "#Add dictionary\n",
    "def add():\n",
    "    country = input(\"Enter the country name:\")\n",
    "    if country in d:\n",
    "        print(\"country name already exists\")\n",
    "    if country not in d:\n",
    "        country_value = input(\"Enter the value of country\")\n",
    "        d[country] = country_value\n",
    "        print(d.items())\n",
    "#add()"
   ]
  },
  {
   "cell_type": "markdown",
   "id": "dec40649",
   "metadata": {},
   "source": [
    "b. `remove`: when user inputs remove it should ask for a country to remove. If country exist in our dictionary then remove it and print new dictionary using format shown above in (a). Else print that country doesn't exist!"
   ]
  },
  {
   "cell_type": "code",
   "execution_count": 42,
   "id": "e70bb134",
   "metadata": {},
   "outputs": [
    {
     "name": "stdout",
     "output_type": "stream",
     "text": [
      "The Updated dictionary'{'China': 143, 'India': 136, 'USA': 32, 'Pakistan': 21}''\n"
     ]
    }
   ],
   "source": [
    "def remove():\n",
    "    country = input(\"Enter the name of country to remove\")\n",
    "    if country in d:\n",
    "        removed_value = d.pop(country)\n",
    "        print(f\"Key value pair '{country}':{removed_value} is removed\")  \n",
    "    else:\n",
    "        print(\"Country not found\")\n",
    "\n",
    "#remove()\n",
    "print(f\"The Updated dictionary'{d}''\")"
   ]
  },
  {
   "cell_type": "markdown",
   "id": "2532045f",
   "metadata": {},
   "source": [
    "c. `query`: on this again ask user for which country he or she wants to query. When user inputs that country it will print population of that country.\n"
   ]
  },
  {
   "cell_type": "code",
   "execution_count": 64,
   "id": "d98ad6b1",
   "metadata": {},
   "outputs": [
    {
     "name": "stdout",
     "output_type": "stream",
     "text": [
      "Which country details you want?:China\n",
      "The country is 'China': 143\n"
     ]
    }
   ],
   "source": [
    "def query():\n",
    "    country = input(\"Which country details you want?:\")\n",
    "    if country in d:\n",
    "        print(f\"The country is '{country}': {d[country]}\")\n",
    "    else:\n",
    "        print(\"Country not found\")\n",
    "#d.items()         \n",
    "query()"
   ]
  },
  {
   "cell_type": "markdown",
   "id": "a2bd77cf",
   "metadata": {},
   "source": [
    "2. You are given following list of stocks and their prices in last 3 days,\n",
    "\n",
    "    |Stock|Prices|\n",
    "    |-------|----------|\n",
    "    |info|[600,630,620]|\n",
    "    |ril|[1430,1490,1567]|\n",
    "    |mtl|[234,180,160]|\n",
    "\n",
    "1. Write a program that asks user for operation. Value of operations could be,\n",
    "     1. print: When user enters print it should print following,\n",
    "            ```\n",
    "            info ==> [600, 630, 620] ==> avg:  616.67\n",
    "            ril ==> [1430, 1490, 1567] ==> avg:  1495.67\n",
    "            mtl ==> [234, 180, 160] ==> avg:  191.33\n",
    "            ```\n",
    " "
   ]
  },
  {
   "cell_type": "code",
   "execution_count": 81,
   "id": "79fc8d02",
   "metadata": {},
   "outputs": [
    {
     "name": "stdout",
     "output_type": "stream",
     "text": [
      "info ==> [600, 630, 620] ==> Average: 616.6666666666666\n",
      "ril ==> [1430, 1490, 1567] ==> Average: 1495.6666666666667\n",
      "mtl ==> [234, 180, 160] ==> Average: 191.33333333333334\n"
     ]
    }
   ],
   "source": [
    "d1 = {\n",
    "    \"info\":[600,630,620],\"ril\":[1430, 1490, 1567], \"mtl\":[234, 180, 160]}\n",
    "d1.items()\n",
    "\n",
    "#Print dcitionary\n",
    "for key, value in d1.items():\n",
    "    print(key, \"==>\",value, \"==>\", \"Average:\",sum(value)/len(value) )\n"
   ]
  },
  {
   "cell_type": "markdown",
   "id": "3a790232",
   "metadata": {},
   "source": [
    "2. add: When user enters 'add', it asks for stock ticker and price. If stock already exist in your list (like info, ril etc) then it will append the price to the list. Otherwise it will create new entry in your dictionary. For example entering 'tata' and 560 will add tata ==> [560] to the dictionary of stocks."
   ]
  },
  {
   "cell_type": "code",
   "execution_count": 99,
   "id": "23c6c096",
   "metadata": {},
   "outputs": [
    {
     "name": "stdout",
     "output_type": "stream",
     "text": [
      "Enter the name of the stock: bajaj\n",
      "Enter the value30\n",
      "{'info': [600, 630, 620], 'ril': [1430, 1490, 1567, [30]], 'mtl': [234, 180, 160], 'tata': 40, 'bajaj': [30]}\n"
     ]
    }
   ],
   "source": [
    "def add():\n",
    "    stock_name = input(\"Enter the name of the stock: \")\n",
    "    value = input(\"Enter the value\")\n",
    "    value = [int(value)]\n",
    "    if stock_name in d1:\n",
    "        d1[stock_name].append(value)\n",
    "    else:\n",
    "        d1[stock_name] = value\n",
    "    print(d1)\n",
    "add()"
   ]
  },
  {
   "cell_type": "markdown",
   "id": "7faa77e4",
   "metadata": {},
   "source": [
    "3. Write circle_calc() function that takes radius of a circle as an input from user and then it calculates and returns area, circumference and diameter. You should get these values in your main program by calling circle_calc function and then print them\n"
   ]
  },
  {
   "cell_type": "code",
   "execution_count": null,
   "id": "f61b6856",
   "metadata": {},
   "outputs": [],
   "source": [
    "def circle_calc():\n",
    "    radius = input(\"Enter radius of a circle = \")\n",
    "    radius = int(radius)\n",
    "    area = pi**2 * radius\n",
    "    circumference = 2*pi*radius\n",
    "    diameter = 2*radius\n",
    "    \n",
    "    print(f\"'{radius}':[area, circumference, ]\")\n",
    "    \n",
    "    \n",
    "    "
   ]
  },
  {
   "cell_type": "code",
   "execution_count": 10,
   "id": "422e82aa",
   "metadata": {},
   "outputs": [
    {
     "name": "stdout",
     "output_type": "stream",
     "text": [
      "      May 1989\n",
      "Mo Tu We Th Fr Sa Su\n",
      " 1  2  3  4  5  6  7\n",
      " 8  9 10 11 12 13 14\n",
      "15 16 17 18 19 20 21\n",
      "22 23 24 25 26 27 28\n",
      "29 30 31\n",
      "\n"
     ]
    },
    {
     "data": {
      "text/plain": [
       "['Calendar',\n",
       " 'EPOCH',\n",
       " 'FRIDAY',\n",
       " 'February',\n",
       " 'HTMLCalendar',\n",
       " 'IllegalMonthError',\n",
       " 'IllegalWeekdayError',\n",
       " 'January',\n",
       " 'LocaleHTMLCalendar',\n",
       " 'LocaleTextCalendar',\n",
       " 'MONDAY',\n",
       " 'SATURDAY',\n",
       " 'SUNDAY',\n",
       " 'THURSDAY',\n",
       " 'TUESDAY',\n",
       " 'TextCalendar',\n",
       " 'WEDNESDAY',\n",
       " '_EPOCH_ORD',\n",
       " '__all__',\n",
       " '__builtins__',\n",
       " '__cached__',\n",
       " '__doc__',\n",
       " '__file__',\n",
       " '__loader__',\n",
       " '__name__',\n",
       " '__package__',\n",
       " '__spec__',\n",
       " '_colwidth',\n",
       " '_locale',\n",
       " '_localized_day',\n",
       " '_localized_month',\n",
       " '_monthlen',\n",
       " '_nextmonth',\n",
       " '_prevmonth',\n",
       " '_spacing',\n",
       " 'c',\n",
       " 'calendar',\n",
       " 'datetime',\n",
       " 'day_abbr',\n",
       " 'day_name',\n",
       " 'different_locale',\n",
       " 'error',\n",
       " 'firstweekday',\n",
       " 'format',\n",
       " 'formatstring',\n",
       " 'isleap',\n",
       " 'leapdays',\n",
       " 'main',\n",
       " 'mdays',\n",
       " 'month',\n",
       " 'month_abbr',\n",
       " 'month_name',\n",
       " 'monthcalendar',\n",
       " 'monthrange',\n",
       " 'prcal',\n",
       " 'prmonth',\n",
       " 'prweek',\n",
       " 'repeat',\n",
       " 'setfirstweekday',\n",
       " 'sys',\n",
       " 'timegm',\n",
       " 'week',\n",
       " 'weekday',\n",
       " 'weekheader']"
      ]
     },
     "execution_count": 10,
     "metadata": {},
     "output_type": "execute_result"
    }
   ],
   "source": [
    "import math #imports the math modules\n",
    "dir(math) #check all the function in the modules\n",
    "\n",
    "import calendar #imports the math modules\n",
    "cal = calendar.month(1989, 5) #check the month of a specific year\n",
    "print(cal)\n",
    "\n",
    "dir(calendar)"
   ]
  },
  {
   "cell_type": "markdown",
   "id": "ec66ff98",
   "metadata": {},
   "source": [
    "How to write a module in python\n",
    "\n",
    "The files can be imported.\n",
    "\n",
    "Work with Json.\n",
    "Reading and Writing files\n",
    "\n"
   ]
  }
 ],
 "metadata": {
  "kernelspec": {
   "display_name": "Python 3 (ipykernel)",
   "language": "python",
   "name": "python3"
  },
  "language_info": {
   "codemirror_mode": {
    "name": "ipython",
    "version": 3
   },
   "file_extension": ".py",
   "mimetype": "text/x-python",
   "name": "python",
   "nbconvert_exporter": "python",
   "pygments_lexer": "ipython3",
   "version": "3.9.13"
  }
 },
 "nbformat": 4,
 "nbformat_minor": 5
}
